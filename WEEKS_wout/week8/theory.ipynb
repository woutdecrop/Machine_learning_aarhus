{
 "cells": [
  {
   "cell_type": "markdown",
   "metadata": {},
   "source": [
    "# Exercises Week 8"
   ]
  },
  {
   "cell_type": "markdown",
   "metadata": {},
   "source": [
    "## Exercise 1: AdaBoost and VC-dimension\n",
    "In this exericse, we will investigate the VC-dimension of voting classifiers and argue that one has to be careful with the number of iterations of boosting to guarantee good generalization performance with high probability.\n",
    "\n",
    "The data we will consider is one-dimensional, i.e. a single feature. Our weak learner is decision stumps, i.e. a base hypothesis $h$ can be specified by a splitting value $v$, and two leaf values $a, b \\in \\{-1,1\\}$. Given a one-dimensional feature vector $x = (x_1)$, the hypothesis $h$ returns $a$ when $x_1 \\leq v$ and it returns $b$ otherwise. We let $H$ denote the set of all such decision stumps, i.e. $H$ is the set of base hypotheses.\n",
    "\n",
    "### VC-dimension of base classifier\n",
    "1. Show that the VC-dimension of $H$ is $2$.\n",
    "\n",
    "breakpoint 3, 3 shape and try to split up and you cant shatter them so thats the breakpoint\n",
    "\n",
    "2 kan je split in midden doen, 3a bij 3 kan da niet met 1,-1,1\n",
    "\n",
    "### VC-dimension of voting classifiers\n",
    "Let $C$ be the class of all voting classifiers over $H$, i.e. $C$ consists of all hypotheses of the form:\n",
    "\n",
    "$$\n",
    "f(x) = \\textrm{sign}(\\sum_{h \\in H} \\alpha_h h(x))\n",
    "$$\n",
    "with $\\sum_{h \\in H} \\alpha_h = 1$ and $\\alpha_h \\geq 0$ for all $h$. We will show that $C$ has infinite VC-dimension. To do so, we will argue that for any size $n$, there is a set of $n$ points $x_1,\\dots,x_n$ in 1d that can be shattered, i.e. for any labeling $y \\in \\{-1,1\\}^n$ of the $n$ points, there is a hypothesis $g$ in $C$ such that $g(x_i)=y_i$ for all $i$. \n",
    "\n",
    "We will consider the simple point set $x_i = i$, i.e. $n$ evenly spaced points on the line. Let $y \\in \\{-1,1\\}^n$ be any labeling of the $n$ points. We need to show that there is a hypothesis $g \\in C$ that has $h(x_i)=y_i$ for all $i$. To do so, we will use the fact from the lecture that if our base learner guarantees that there is some $\\gamma > 0$, such that for every probability distribution $D$ over $x_1,\\dots,x_n$, the base learner produces a hypothesis $h \\in H$ such that the weighted $0-1$ loss satisfies $L_D(h) = \\sum_{i=1}^n D(i)1_{h(x_i) \\neq y_i} \\leq 1/2-\\gamma$, then running AdaBoost for $(\\ln n)/(2 \\gamma^2)$ iterations produces a voting classifier $f$ with $0$ error on $x_1,\\dots,x_n$.\n",
    "1. Assume we have some probability distribution $D$ over $x_1,\\dots,x_n$ and assume that there is a hypothesis $h \\in H$ with $L_D(h) \\leq 1/2-\\gamma$. Show how to modify the algorithm from the Decision Tree lecture that computes decision stumps, such that it is guaranteed to output a hypothesis $h'$ with $L_D(h') \\leq 1/2-\\gamma$.\n",
    "\n",
    "\n",
    "je hebt alle punten van begin tot einde (x1 tot xn), je kan dant ussen elk punt een lijn trekken voor split en je gaat da doen tot daje eentje hebtj die voorwaarde voldoet\n",
    "2. Argue that for any probability distribution $D$ over $x_1,\\dots,x_n$, there is a hypothesis $h \\in H$ with $L_D(h) \\leq 1/2 - 1/(2n)$. Hint: Consider hypotheses where the splitting point is right before and right after the point $x_i$ with largest probability $D(i)$.\n",
    "\n",
    "\n",
    "dus de som van d is 1, het maximum daarvan is dus minstens kleiner of gelijk aan 1/n\n",
    "stel dat i het argument daarvan is \n",
    "\n",
    "derna gaje de split zetten net voor en achter dezer grootstee, een van de 2 zijkanten is dus met meer dan de helft juist (andere minder)\n",
    "\n",
    "deran doeje de formule van lw(h) en zieje dat 1/n-1/2n is\n",
    "3. Use the above to conclude that there is a hypothesis $g \\in C$ with $g(x_i) = y_i$ for all $i\n",
    "\n",
    "\n",
    "inf aantal mogelijkheden\n",
    "ln(n)/2y^2 en vervang y door 1/2n en dan habj oneidnig moelijkheden "
   ]
  },
  {
   "cell_type": "code",
   "execution_count": null,
   "metadata": {},
   "outputs": [],
   "source": []
  },
  {
   "cell_type": "markdown",
   "metadata": {},
   "source": [
    "## Exercise 2: Implementing AdaBoost\n",
    "In this exercise your task is to implement AdaBoost as described in the lecture and the Boosting note.\n",
    "We have provided starter code in adaboost.py. See the boosting note for a description of the algorithm.\n",
    "\n",
    "You must implement the methods\n",
    "- ensemble_output\n",
    "- exp_loss\n",
    "- predict\n",
    "- score\n",
    "- fit\n",
    "\n",
    "in that order\n",
    "\n",
    "To test your implementation, run adaboost.py\n",
    "\n",
    "You should get a final accuracy of around 0.886\n",
    "\n"
   ]
  },
  {
   "cell_type": "markdown",
   "metadata": {},
   "source": [
    "## Exercise 3: Gradient Boosting by Hand\n",
    "In this exercise you must complete one step of gradient boosting with exponential loss on a small data set (X, y) as shown below. The exponential loss is $L(h(x),y) = e^{-yh(x)}$.\n",
    "\n",
    "$X = [1,2,5,3,4]$\n",
    "\n",
    "$y = [1,1,1,-1, -1]$\n",
    "\n",
    "Assume that we initialize our ensemble model with the constant function $h(x) = 1$\n",
    "\n",
    "\n",
    "**Your task requires the following three steps** \n",
    "1. Compute the residuals the regression tree should fit (with least squares)\n",
    "bord\n",
    "2. Construct the Regression Stump found by fitting the negative gradient\n",
    "3. Optimize the leaf values such that the newly added tree minimize the exponential loss, with the condition that the number the leaf returns is in the interval [-1, 1].\n",
    "   What happens if we do not have this constraint that the leaf must return values in [-1, 1]?\n",
    "   \n",
    "   \n",
    "   split bij kleiner of gelijk aan 1,2 enz doen en cost berekeken\n",
    "       bij 1:\n",
    "           blad 1: 0 cost (juist geplaatst)\n",
    "           blad 2: mean is gelijk aan (-1/e+e)/2 (2 correct) huhh?\n",
    "           totaal :0+ 2*(-1/e-(-1/e+e)/2)^2+2*(e-(-(-1/e+e)^2 (residuals die e)\n",
    "       bij 2\n",
    "           zie foto 6.35\n",
    "       kijken naar residuals, leas squared loss, data-mean en optellen\n",
    "       \n",
    "3) formule som(lft-1+c,y1) shit\n",
    "left leave:\n",
    "    L(1+v,1)=e^-1*(1+v), je wil tminimisen dus v zo groot mogelijk dus 1\n",
    "    l(h(x+v,y1)= 2 punten juist en 1 punt fout\n",
    "               = e^(-1*(1+v)+2*e^(1+v) = 1/e*e^-v+2*e*e^v\n",
    "               afleiden naar e= 2e*e^v-1/e*e^-v=0 oplosen naar v \n",
    "               v moet 1/2*ln(1/(2e^2)= -1.35 moet binnen inetval dus -1\n",
    "    h= e^x of e^-x van residuals\n"
   ]
  },
  {
   "cell_type": "markdown",
   "metadata": {},
   "source": [
    "## Exercise 4: Implementing Gradient Boosting\n",
    "In this exercise your task is to implement the Gradient Boosting algorithm for regression using Least Squares Loss.\n",
    "We have provided starter code in **gradientboost.py**. \n",
    "\n",
    "You must implement the methods\n",
    "- predict\n",
    "- score\n",
    "- fit\n",
    "\n",
    "in that order.\n",
    "\n",
    "\n",
    "Notice that fit gets two sets of data and labels X, y and X_val, y_val.\n",
    "The latter X_val, y_val is a separate validation test set you must test your current ensemble on in each iteration so we can plot the development on data not used for training.\n",
    "\n",
    "To test your implementation, run gradientboost.py -max_depth 1\n",
    "\n",
    "You can provide different max_depth of the base learner which is a Regression Tree (1 is default).\n",
    "\n",
    "With a default base learner with max depth 1 the mean least squares error on both training and test data should be around 0.35. \n",
    "If you change random state then the results may be different.\n",
    "\n",
    "If you increase the max_depth the results will change.  Try for instance max_depth 3 and 5 as well. What do you see?\n",
    "\n",
    "\n",
    "\n"
   ]
  },
  {
   "cell_type": "code",
   "execution_count": null,
   "metadata": {},
   "outputs": [],
   "source": []
  }
 ],
 "metadata": {
  "kernelspec": {
   "display_name": "Python 3",
   "language": "python",
   "name": "python3"
  },
  "language_info": {
   "codemirror_mode": {
    "name": "ipython",
    "version": 3
   },
   "file_extension": ".py",
   "mimetype": "text/x-python",
   "name": "python",
   "nbconvert_exporter": "python",
   "pygments_lexer": "ipython3",
   "version": "3.8.3"
  }
 },
 "nbformat": 4,
 "nbformat_minor": 2
}
