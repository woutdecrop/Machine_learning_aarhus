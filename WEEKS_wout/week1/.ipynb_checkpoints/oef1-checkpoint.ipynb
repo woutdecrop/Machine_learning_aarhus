{
 "cells": [
  {
   "cell_type": "code",
   "execution_count": 16,
   "metadata": {},
   "outputs": [
    {
     "name": "stdout",
     "output_type": "stream",
     "text": [
      "[[2]\n",
      " [3]\n",
      " [4]]\n",
      "[1 2 3]\n",
      "theta:\n",
      " [2 3 4]\n",
      "x:\n",
      " [1 2 3]\n",
      "shapes: [[1]\n",
      " [2]\n",
      " [3]] (3,)\n",
      "\n",
      "Do calculation by hand and check with np.dot or np.sum and *\n",
      "\n",
      "Dot prod is [ 9 18 27]\n"
     ]
    }
   ],
   "source": [
    "# NumPy is a Python library for efficient (vectorized) computations. \n",
    "import numpy as np # import library\n",
    "# For this question we numpy array to:\n",
    "#     1. represent the vectors 'theta' and 'x' as arrays.\n",
    "#     2. compute dot product and sum of 'theta' and 'x' (many solutions possible)\n",
    "\n",
    "# Represent the vectors as arrays. \n",
    "theta = np.array([2 ,3, 4]) \n",
    "x = np.array([1 ,2 ,3])\n",
    "\n",
    "print(theta.reshape(3,1))\n",
    "print(x)\n",
    "\n",
    "# Print the NumPy array representation of 'x' and 'theta' and their shapes. \n",
    "print('theta:\\n', theta)\n",
    "print('x:\\n', x)\n",
    "print('shapes:', x.reshape(3,1), theta.shape) \n",
    "print('\\nDo calculation by hand and check with np.dot or np.sum and *\\n')\n",
    "\n",
    "# Make a variable called 'dot_prod' and assign it the dot product of 'x' and 'theta'.\n",
    "dot_prod = sum(theta.reshape(3,1)*x)\n",
    "\n",
    "### YOUR CODE HERE\n",
    "### END CODE\n",
    "\n",
    "print('Dot prod is {0}'.format(dot_prod))\n",
    "\n"
   ]
  }
 ],
 "metadata": {
  "kernelspec": {
   "display_name": "Python 3",
   "language": "python",
   "name": "python3"
  },
  "language_info": {
   "codemirror_mode": {
    "name": "ipython",
    "version": 3
   },
   "file_extension": ".py",
   "mimetype": "text/x-python",
   "name": "python",
   "nbconvert_exporter": "python",
   "pygments_lexer": "ipython3",
   "version": "3.8.3"
  }
 },
 "nbformat": 4,
 "nbformat_minor": 4
}
