{
 "cells": [
  {
   "cell_type": "code",
   "execution_count": 4,
   "metadata": {},
   "outputs": [
    {
     "name": "stdout",
     "output_type": "stream",
     "text": [
      "[[-3  6  6  6]\n",
      " [ 7  9  0  2]\n",
      " [42  0  3 -5]\n",
      " [ 0  0  7  4]]\n",
      "Ae3:  [0 0 3 0]\n",
      "Ae2:  [0 3 0 0]\n",
      "A(4e3+2e2):  [[ 0 18 18  0]\n",
      " [ 0 27  0  0]\n",
      " [ 0  0  9  0]\n",
      " [ 0  0 21  0]]\n"
     ]
    }
   ],
   "source": [
    "import numpy as np #\n",
    "# In python you can extract the i'th column by A[:, i-1] (notice that the columns are 0 indexed)\n",
    "A = np.array([[-3, 6,6,6], [7,9,0,2], [42,0,3, -5], [0, 0, 7, 4]])\n",
    "e3 = np.array([0,0,1,0])\n",
    "e2 = np.array([0,1,0,0])\n",
    "\n",
    "print(A)\n",
    "\n",
    "Ae3 = 3*e3\n",
    "Ae2 = 3*e2\n",
    "A4e3_2e2 = A*(Ae3+Ae2)\n",
    "\n",
    "### YOUR CODE - FILL Ae3, Ae2, A4e3_2e2\n",
    "### END CODE\n",
    "\n",
    "print('Ae3: ', Ae3)\n",
    "print('Ae2: ', Ae2)\n",
    "print('A(4e3+2e2): ', A4e3_2e2)"
   ]
  }
 ],
 "metadata": {
  "kernelspec": {
   "display_name": "Python 3",
   "language": "python",
   "name": "python3"
  },
  "language_info": {
   "codemirror_mode": {
    "name": "ipython",
    "version": 3
   },
   "file_extension": ".py",
   "mimetype": "text/x-python",
   "name": "python",
   "nbconvert_exporter": "python",
   "pygments_lexer": "ipython3",
   "version": "3.8.3"
  }
 },
 "nbformat": 4,
 "nbformat_minor": 4
}
